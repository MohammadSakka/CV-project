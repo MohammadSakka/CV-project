{
  "nbformat": 4,
  "nbformat_minor": 0,
  "metadata": {
    "colab": {
      "provenance": []
    },
    "kernelspec": {
      "name": "python3",
      "display_name": "Python 3"
    },
    "language_info": {
      "name": "python"
    }
  },
  "cells": [
    {
      "cell_type": "code",
      "execution_count": 1,
      "metadata": {
        "colab": {
          "base_uri": "https://localhost:8080/"
        },
        "id": "RHOh7hhfGtIB",
        "outputId": "018c45b8-cea0-4c00-cb1b-061f506e73bb"
      },
      "outputs": [
        {
          "output_type": "stream",
          "name": "stdout",
          "text": [
            "Downloading...\n",
            "From: https://drive.google.com/uc?id=1Fxv32_ConX1dw3RldPEBrvPSbibvafeh\n",
            "To: /content/Activity_Measurements_reduced.zip\n",
            "100% 353M/353M [00:03<00:00, 96.2MB/s]\n"
          ]
        }
      ],
      "source": [
        "!gdown https://drive.google.com/uc?id=1Fxv32_ConX1dw3RldPEBrvPSbibvafeh"
      ]
    },
    {
      "cell_type": "code",
      "source": [
        "!unzip Activity_Measurements_reduced.zip"
      ],
      "metadata": {
        "colab": {
          "base_uri": "https://localhost:8080/"
        },
        "id": "3Hp3-av0KnEY",
        "outputId": "ecd47345-99b1-42f1-e741-06cbe9832e39"
      },
      "execution_count": 2,
      "outputs": [
        {
          "output_type": "stream",
          "name": "stdout",
          "text": [
            "Archive:  Activity_Measurements_reduced.zip\n",
            "replace Activity_Measurements/GOTOV05-GENEActiv-ankle.csv? [y]es, [n]o, [A]ll, [N]one, [r]ename: A\n",
            "  inflating: Activity_Measurements/GOTOV05-GENEActiv-ankle.csv  \n",
            "  inflating: Activity_Measurements/GOTOV05-GENEActiv-chest.csv  \n",
            "  inflating: Activity_Measurements/GOTOV05-GENEActiv-wrist.csv  \n",
            "  inflating: Activity_Measurements/GOTOV06-GENEActiv-ankle.csv  \n",
            "  inflating: Activity_Measurements/GOTOV06-GENEActiv-chest.csv  \n",
            "  inflating: Activity_Measurements/GOTOV06-GENEActiv-wrist.csv  \n",
            "  inflating: Activity_Measurements/GOTOV07-GENEActiv-ankle.csv  \n",
            "  inflating: Activity_Measurements/GOTOV07-GENEActiv-chest.csv  \n",
            "  inflating: Activity_Measurements/GOTOV07-GENEActiv-wrist.csv  \n",
            "  inflating: Activity_Measurements/GOTOV08-GENEActiv-ankle.csv  \n",
            "  inflating: Activity_Measurements/GOTOV08-GENEActiv-chest.csv  \n",
            "  inflating: Activity_Measurements/GOTOV08-GENEActiv-wrist.csv  \n",
            "  inflating: Activity_Measurements/GOTOV09-GENEActiv-ankle.csv  \n",
            "  inflating: Activity_Measurements/GOTOV09-GENEActiv-chest.csv  \n",
            "  inflating: Activity_Measurements/GOTOV09-GENEActiv-wrist.csv  \n",
            "  inflating: Activity_Measurements/GOTOV10-GENEActiv-ankle.csv  \n",
            "  inflating: Activity_Measurements/GOTOV10-GENEActiv-chest.csv  \n",
            "  inflating: Activity_Measurements/GOTOV10-GENEActiv-wrist.csv  \n",
            "  inflating: Activity_Measurements/GOTOV11-GENEActiv-ankle.csv  \n",
            "  inflating: Activity_Measurements/GOTOV11-GENEActiv-chest.csv  \n",
            "  inflating: Activity_Measurements/GOTOV11-GENEActiv-wrist.csv  \n",
            "  inflating: Activity_Measurements/GOTOV13-GENEActiv-ankle.csv  \n",
            "  inflating: Activity_Measurements/GOTOV13-GENEActiv-chest.csv  \n",
            "  inflating: Activity_Measurements/GOTOV13-GENEActiv-wrist.csv  \n",
            "  inflating: Activity_Measurements/GOTOV14-GENEActiv-ankle.csv  \n",
            "  inflating: Activity_Measurements/GOTOV14-GENEActiv-chest.csv  \n",
            "  inflating: Activity_Measurements/GOTOV14-GENEActiv-wrist.csv  \n",
            "  inflating: Activity_Measurements/GOTOV15-GENEActiv-ankle.csv  \n",
            "  inflating: Activity_Measurements/GOTOV15-GENEActiv-chest.csv  \n",
            "  inflating: Activity_Measurements/GOTOV15-GENEActiv-wrist.csv  \n",
            "  inflating: Activity_Measurements/GOTOV16-GENEActiv-ankle.csv  \n",
            "  inflating: Activity_Measurements/GOTOV16-GENEActiv-chest.csv  \n",
            "  inflating: Activity_Measurements/GOTOV16-GENEActiv-wrist.csv  \n",
            "  inflating: Activity_Measurements/GOTOV17-GENEActiv-ankle.csv  \n",
            "  inflating: Activity_Measurements/GOTOV17-GENEActiv-chest.csv  \n",
            "  inflating: Activity_Measurements/GOTOV17-GENEActiv-wrist.csv  \n",
            "  inflating: Activity_Measurements/GOTOV18-GENEActiv-ankle.csv  \n",
            "  inflating: Activity_Measurements/GOTOV18-GENEActiv-chest.csv  \n",
            "  inflating: Activity_Measurements/GOTOV18-GENEActiv-wrist.csv  \n",
            "  inflating: Activity_Measurements/GOTOV20-GENEActiv-ankle.csv  \n",
            "  inflating: Activity_Measurements/GOTOV20-GENEActiv-chest.csv  \n",
            "  inflating: Activity_Measurements/GOTOV20-GENEActiv-wrist.csv  \n",
            "  inflating: Activity_Measurements/GOTOV21-GENEActiv-ankle.csv  \n",
            "  inflating: Activity_Measurements/GOTOV21-GENEActiv-chest.csv  \n",
            "  inflating: Activity_Measurements/GOTOV21-GENEActiv-wrist.csv  \n",
            "  inflating: Activity_Measurements/GOTOV22-GENEActiv-ankle.csv  \n",
            "  inflating: Activity_Measurements/GOTOV22-GENEActiv-chest.csv  \n",
            "  inflating: Activity_Measurements/GOTOV22-GENEActiv-wrist.csv  \n",
            "  inflating: Activity_Measurements/GOTOV24-GENEActiv-ankle.csv  \n",
            "  inflating: Activity_Measurements/GOTOV24-GENEActiv-chest.csv  \n",
            "  inflating: Activity_Measurements/GOTOV24-GENEActiv-wrist.csv  \n",
            "  inflating: Activity_Measurements/GOTOV25-GENEActiv-ankle.csv  \n",
            "  inflating: Activity_Measurements/GOTOV25-GENEActiv-chest.csv  \n",
            "  inflating: Activity_Measurements/GOTOV25-GENEActiv-wrist.csv  \n",
            "  inflating: Activity_Measurements/GOTOV26-GENEActiv-ankle.csv  \n",
            "  inflating: Activity_Measurements/GOTOV26-GENEActiv-chest.csv  \n",
            "  inflating: Activity_Measurements/GOTOV26-GENEActiv-wrist.csv  \n",
            "  inflating: Activity_Measurements/GOTOV27-GENEActiv-ankle.csv  \n",
            "  inflating: Activity_Measurements/GOTOV27-GENEActiv-chest.csv  \n",
            "  inflating: Activity_Measurements/GOTOV27-GENEActiv-wrist.csv  \n",
            "  inflating: Activity_Measurements/GOTOV28-GENEActiv-ankle.csv  \n",
            "  inflating: Activity_Measurements/GOTOV28-GENEActiv-chest.csv  \n",
            "  inflating: Activity_Measurements/GOTOV28-GENEActiv-wrist.csv  \n",
            "  inflating: Activity_Measurements/GOTOV29-GENEActiv-ankle.csv  \n",
            "  inflating: Activity_Measurements/GOTOV29-GENEActiv-chest.csv  \n",
            "  inflating: Activity_Measurements/GOTOV29-GENEActiv-wrist.csv  \n",
            "  inflating: Activity_Measurements/GOTOV30-GENEActiv-ankle.csv  \n",
            "  inflating: Activity_Measurements/GOTOV30-GENEActiv-chest.csv  \n",
            "  inflating: Activity_Measurements/GOTOV30-GENEActiv-wrist.csv  \n",
            "  inflating: Activity_Measurements/GOTOV31-GENEActiv-ankle.csv  \n",
            "  inflating: Activity_Measurements/GOTOV31-GENEActiv-chest.csv  \n",
            "  inflating: Activity_Measurements/GOTOV31-GENEActiv-wrist.csv  \n",
            "  inflating: Activity_Measurements/GOTOV32-GENEACtiv-ankle.csv  \n",
            "  inflating: Activity_Measurements/GOTOV32-GENEActiv-chest.csv  \n",
            "  inflating: Activity_Measurements/GOTOV32-GENEActiv-wrist.csv  \n",
            "  inflating: Activity_Measurements/GOTOV33-GENEActiv-ankle.csv  \n",
            "  inflating: Activity_Measurements/GOTOV33-GENEActiv-chest.csv  \n",
            "  inflating: Activity_Measurements/GOTOV33-GENEActiv-wrist.csv  \n",
            "  inflating: Activity_Measurements/GOTOV34-GENEActiv-ankle.csv  \n",
            "  inflating: Activity_Measurements/GOTOV34-GENEActiv-chest.csv  \n",
            "  inflating: Activity_Measurements/GOTOV34-GENEActiv-wrist.csv  \n",
            "  inflating: Activity_Measurements/GOTOV35-GENEActiv-ankle.csv  \n",
            "  inflating: Activity_Measurements/GOTOV35-GENEActiv-chest.csv  \n",
            "  inflating: Activity_Measurements/GOTOV35-GENEActiv-wrist.csv  \n",
            "  inflating: Activity_Measurements/GOTOV36-GENEActiv-ankle.csv  \n",
            "  inflating: Activity_Measurements/GOTOV36-GENEActiv-chest.csv  \n",
            "  inflating: Activity_Measurements/GOTOV36-GENEActiv-wrist.csv  \n"
          ]
        }
      ]
    },
    {
      "cell_type": "code",
      "source": [
        "!pip install pyts"
      ],
      "metadata": {
        "colab": {
          "base_uri": "https://localhost:8080/"
        },
        "id": "u1VY6MCuDWBs",
        "outputId": "c827ddf4-15bd-4162-c26a-cdd4d7777bec"
      },
      "execution_count": 3,
      "outputs": [
        {
          "output_type": "stream",
          "name": "stdout",
          "text": [
            "Requirement already satisfied: pyts in /usr/local/lib/python3.10/dist-packages (0.13.0)\n",
            "Requirement already satisfied: numpy>=1.22.4 in /usr/local/lib/python3.10/dist-packages (from pyts) (1.23.5)\n",
            "Requirement already satisfied: scipy>=1.8.1 in /usr/local/lib/python3.10/dist-packages (from pyts) (1.11.3)\n",
            "Requirement already satisfied: scikit-learn>=1.2.0 in /usr/local/lib/python3.10/dist-packages (from pyts) (1.2.2)\n",
            "Requirement already satisfied: joblib>=1.1.1 in /usr/local/lib/python3.10/dist-packages (from pyts) (1.3.2)\n",
            "Requirement already satisfied: numba>=0.55.2 in /usr/local/lib/python3.10/dist-packages (from pyts) (0.58.1)\n",
            "Requirement already satisfied: llvmlite<0.42,>=0.41.0dev0 in /usr/local/lib/python3.10/dist-packages (from numba>=0.55.2->pyts) (0.41.1)\n",
            "Requirement already satisfied: threadpoolctl>=2.0.0 in /usr/local/lib/python3.10/dist-packages (from scikit-learn>=1.2.0->pyts) (3.2.0)\n"
          ]
        }
      ]
    },
    {
      "cell_type": "code",
      "source": [
        "import pandas as pd\n",
        "from sklearn.preprocessing import StandardScaler\n",
        "from pyts.image import GramianAngularField\n",
        "import numpy as np\n",
        "import os\n",
        "\n",
        "def read_and_normalize_data(sensor_type, folder_path):\n",
        "    sensor_data = pd.DataFrame()\n",
        "    num = 1\n",
        "    for filename in os.listdir(folder_path):\n",
        "        if filename.endswith(f\"-GENEActiv-{sensor_type}.csv\"):\n",
        "            file_path = os.path.join(folder_path, filename)\n",
        "            user_name = filename.split('-')[0]\n",
        "\n",
        "            # Read CSV file\n",
        "            df = pd.read_csv(file_path)\n",
        "\n",
        "            # Add user name as a column and concatenate to the sensor_data DataFrame\n",
        "            df['user'] = user_name\n",
        "            new_data = pd.concat([pd.DataFrame(df['x']),pd.DataFrame(df['y']),pd.DataFrame(df['z']),pd.DataFrame(df['labels']),pd.DataFrame(df['user'])],axis=1)\n",
        "            sensor_data = pd.concat([sensor_data,new_data],axis=0)\n",
        "            num+=1\n",
        "            if num>9:\n",
        "              break\n",
        "    return sensor_data\n",
        "\n",
        "# Function to create GAF images for activity recognition\n",
        "def create_gaf_images(sensor_data, window_size):\n",
        "    images = []\n",
        "    labels = []  # Assuming labels are present in the original dataset\n",
        "\n",
        "    unique_users = sensor_data['user'].unique()\n",
        "    print(unique_users)\n",
        "    train_users = unique_users[0:-2]\n",
        "    val_users = unique_users[-2]\n",
        "    test_users = unique_users[-1]\n",
        "    # Combine all data for normalization\n",
        "    combined_data = pd.DataFrame()\n",
        "\n",
        "    # training data\n",
        "    for user in train_users:\n",
        "        user_data = sensor_data[sensor_data['user'] == user]\n",
        "        combined_data = pd.concat([combined_data, user_data])\n",
        "\n",
        "    # Extract features and labels\n",
        "    features = combined_data.iloc[:, 0:-2].values  # Exclude 'user' and 'labels' columns\n",
        "\n",
        "    # Normalize the entire dataset\n",
        "    scaler = StandardScaler()\n",
        "    normalized_features = scaler.fit_transform(features)\n",
        "\n",
        "    start_index = 0\n",
        "    for user in unique_users:\n",
        "        user_data = sensor_data[sensor_data['user'] == user]\n",
        "\n",
        "\n",
        "            # Check if all labels in the window are the same\n",
        "\n",
        "        while start_index + window_size <= len(user_data):\n",
        "            label = user_data.iloc[start_index]['labels']  # Use the label of the first entry in the window\n",
        "            if user_data.iloc[start_index:start_index + window_size]['labels'].nunique() == 1:\n",
        "             # Extract and reshape window data for each column (x, y, z)\n",
        "              curr_img = np.zeros((window_size,window_size,3))\n",
        "              for col_index in range(normalized_features.shape[1]):\n",
        "                  col_window = normalized_features[start_index:start_index + window_size, col_index]\n",
        "                  reshaped_col_window = col_window.reshape(1, window_size)\n",
        "\n",
        "                  # Create GAF images using GASF for each column\n",
        "                  gasf = GramianAngularField()\n",
        "                  image = gasf.fit_transform(reshaped_col_window)\n",
        "                  curr_img[:,:,col_index] = image\n",
        "                  # Add each channel image to the list\n",
        "              images.append(curr_img)\n",
        "              labels.append(user_data.iloc[start_index]['labels'])\n",
        "\n",
        "            start_index += window_size\n",
        "\n",
        "    images = np.array(images)\n",
        "    labels = np.array(labels)\n",
        "\n",
        "\n",
        "\n",
        "    return images, labels\n",
        "\n",
        "\n",
        "\n",
        "\n",
        "\n",
        "# Main script\n",
        "folder_path = \"/content/Activity_Measurements\"\n",
        "window_size = 100  # Adjust window size based on your requirements\n",
        "\n",
        "# Read and normalize data for each sensor type\n",
        "ankle_data = read_and_normalize_data(\"ankle\", folder_path)\n",
        "# chest_data = read_and_normalize_data(\"chest\", folder_path)\n",
        "# wrist_data = read_and_normalize_data(\"wrist\", folder_path)\n",
        "\n",
        "# Create windows for each sensor type\n",
        "ankle_windows = create_gaf_images(ankle_data, window_size)\n",
        "# chest_windows = create_gaf_images(chest_data, window_size)\n",
        "# wrist_windows = create_gaf_images(wrist_data, window_size)\n",
        "\n"
      ],
      "metadata": {
        "colab": {
          "base_uri": "https://localhost:8080/"
        },
        "id": "IlUlnYIwDqie",
        "outputId": "65b50645-9791-43ce-f72d-50a2b4b6deee"
      },
      "execution_count": 27,
      "outputs": [
        {
          "output_type": "stream",
          "name": "stderr",
          "text": [
            "<ipython-input-27-2f558618b5a8>:16: DtypeWarning: Columns (5) have mixed types. Specify dtype option on import or set low_memory=False.\n",
            "  df = pd.read_csv(file_path)\n"
          ]
        },
        {
          "output_type": "stream",
          "name": "stdout",
          "text": [
            "['GOTOV31' 'GOTOV25' 'GOTOV07' 'GOTOV05' 'GOTOV34' 'GOTOV10' 'GOTOV18'\n",
            " 'GOTOV14' 'GOTOV16']\n"
          ]
        }
      ]
    },
    {
      "cell_type": "code",
      "source": [
        "len(np.unique(ankle_windows[1]))"
      ],
      "metadata": {
        "colab": {
          "base_uri": "https://localhost:8080/"
        },
        "id": "f2NoecVEdHsT",
        "outputId": "a8e2cd4d-288d-4373-9af5-9c4f40a24f58"
      },
      "execution_count": 33,
      "outputs": [
        {
          "output_type": "execute_result",
          "data": {
            "text/plain": [
              "17"
            ]
          },
          "metadata": {},
          "execution_count": 33
        }
      ]
    },
    {
      "cell_type": "code",
      "source": [
        "ankle_windows[0].shape"
      ],
      "metadata": {
        "colab": {
          "base_uri": "https://localhost:8080/"
        },
        "id": "yQULem2aCwzk",
        "outputId": "f875895c-ab9f-49ee-e5f6-a3aaa64eb166"
      },
      "execution_count": 29,
      "outputs": [
        {
          "output_type": "execute_result",
          "data": {
            "text/plain": [
              "(3389, 100, 100, 3)"
            ]
          },
          "metadata": {},
          "execution_count": 29
        }
      ]
    },
    {
      "cell_type": "code",
      "source": [
        "ankle_windows[2].shape"
      ],
      "metadata": {
        "colab": {
          "base_uri": "https://localhost:8080/"
        },
        "id": "psd7ZuGj4wZg",
        "outputId": "0cafb234-c3cd-4476-f897-e2836e866afd"
      },
      "execution_count": 20,
      "outputs": [
        {
          "output_type": "execute_result",
          "data": {
            "text/plain": [
              "(3389, 100, 100, 3)"
            ]
          },
          "metadata": {},
          "execution_count": 20
        }
      ]
    },
    {
      "cell_type": "code",
      "source": [
        "from sklearn.preprocessing import LabelEncoder\n",
        "label_encoder = LabelEncoder()\n",
        "encoded_array = label_encoder.fit_transform(ankle_windows[1])\n"
      ],
      "metadata": {
        "id": "G3aPbzAyvQQm"
      },
      "execution_count": 35,
      "outputs": []
    },
    {
      "cell_type": "code",
      "source": [
        "encoded_array"
      ],
      "metadata": {
        "colab": {
          "base_uri": "https://localhost:8080/"
        },
        "id": "kEdvuCkyvfsY",
        "outputId": "d6731c10-1fb5-4143-a859-3e740dfbbe25"
      },
      "execution_count": 36,
      "outputs": [
        {
          "output_type": "execute_result",
          "data": {
            "text/plain": [
              "array([ 4, 11, 11, ...,  0,  0,  0])"
            ]
          },
          "metadata": {},
          "execution_count": 36
        }
      ]
    },
    {
      "cell_type": "code",
      "source": [
        "import tensorflow as tf\n",
        "from tensorflow.keras import layers, models\n",
        "from sklearn.model_selection import train_test_split\n",
        "import numpy as np\n",
        "image_size = 100\n",
        "num_classes = 17\n",
        "# Assuming you have a dataset with images and corresponding labels\n",
        "# X_train: array of images, y_train: array of labels\n",
        "# Ensure that your images and labels are properly loaded\n",
        "\n",
        "# Split the dataset into training and testing sets\n",
        "X_train, X_test, y_train, y_test = train_test_split(ankle_windows[0], encoded_array, test_size=0.2, random_state=42)\n",
        "\n",
        "# Define the CNN model\n",
        "model = models.Sequential()\n",
        "model.add(layers.Conv2D(32, (3, 3), activation='relu', input_shape=(image_size, image_size, 3)))\n",
        "model.add(layers.MaxPooling2D((2, 2)))\n",
        "model.add(layers.Conv2D(64, (3, 3), activation='relu'))\n",
        "model.add(layers.MaxPooling2D((2, 2)))\n",
        "model.add(layers.Conv2D(64, (3, 3), activation='relu'))\n",
        "model.add(layers.Flatten())\n",
        "model.add(layers.Dense(64, activation='relu'))\n",
        "model.add(layers.Dense(num_classes, activation='softmax'))  # Adjust num_classes based on your dataset\n",
        "\n",
        "# Compile the model\n",
        "model.compile(optimizer='adam',\n",
        "              loss='sparse_categorical_crossentropy',\n",
        "              metrics=['accuracy'])\n",
        "\n",
        "# Train the model\n",
        "model.fit(X_train, y_train, epochs=10, validation_data=(X_test, y_test))\n",
        "\n",
        "# Evaluate the model on the test set\n",
        "test_loss, test_acc = model.evaluate(X_test, y_test, verbose=2)\n",
        "print(f'\\nTest accuracy: {test_acc}')\n"
      ],
      "metadata": {
        "colab": {
          "base_uri": "https://localhost:8080/"
        },
        "id": "hT5ExhVsrL_b",
        "outputId": "2599e0f0-e1c0-456e-ee82-82fca583962f"
      },
      "execution_count": 37,
      "outputs": [
        {
          "output_type": "stream",
          "name": "stdout",
          "text": [
            "Epoch 1/10\n",
            "85/85 [==============================] - 55s 635ms/step - loss: 2.0730 - accuracy: 0.3914 - val_loss: 1.7087 - val_accuracy: 0.4440\n",
            "Epoch 2/10\n",
            "85/85 [==============================] - 51s 593ms/step - loss: 1.5548 - accuracy: 0.4994 - val_loss: 1.6785 - val_accuracy: 0.4499\n",
            "Epoch 3/10\n",
            "85/85 [==============================] - 50s 585ms/step - loss: 1.4379 - accuracy: 0.5253 - val_loss: 1.6032 - val_accuracy: 0.4735\n",
            "Epoch 4/10\n",
            "85/85 [==============================] - 52s 614ms/step - loss: 1.3337 - accuracy: 0.5485 - val_loss: 1.5906 - val_accuracy: 0.4749\n",
            "Epoch 5/10\n",
            "85/85 [==============================] - 50s 586ms/step - loss: 1.2306 - accuracy: 0.5843 - val_loss: 1.5820 - val_accuracy: 0.5074\n",
            "Epoch 6/10\n",
            "85/85 [==============================] - 52s 616ms/step - loss: 1.1316 - accuracy: 0.6145 - val_loss: 1.6711 - val_accuracy: 0.4912\n",
            "Epoch 7/10\n",
            "85/85 [==============================] - 52s 612ms/step - loss: 1.0181 - accuracy: 0.6477 - val_loss: 1.6213 - val_accuracy: 0.5000\n",
            "Epoch 8/10\n",
            "85/85 [==============================] - 53s 620ms/step - loss: 0.8966 - accuracy: 0.6861 - val_loss: 1.7593 - val_accuracy: 0.4897\n",
            "Epoch 9/10\n",
            "85/85 [==============================] - 52s 614ms/step - loss: 0.7412 - accuracy: 0.7289 - val_loss: 1.8430 - val_accuracy: 0.4631\n",
            "Epoch 10/10\n",
            "85/85 [==============================] - 53s 619ms/step - loss: 0.5927 - accuracy: 0.7879 - val_loss: 2.2270 - val_accuracy: 0.4587\n",
            "22/22 - 5s - loss: 2.2270 - accuracy: 0.4587 - 5s/epoch - 209ms/step\n",
            "\n",
            "Test accuracy: 0.45870205760002136\n"
          ]
        }
      ]
    }
  ]
}